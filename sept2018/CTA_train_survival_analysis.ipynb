{
 "cells": [
  {
   "cell_type": "markdown",
   "metadata": {},
   "source": [
    "# Survival Analysis: Which CTA L trains are most durable?\n",
    "\n",
    "Data Strategy\n",
    "\n",
    "1. Import Dataset\n",
    "2. Clean Dataset\n",
    "    * lowercase all text\n",
    "    * create function that identifies the train line associated with the tweet.\n",
    "    * create function that identifies the type of delay being reported.\n",
    "    * extract the delay type using regular expressions to search for brackets.\n",
    "    * extract the train line associated with the tweet.\n",
    "    * filter dataframe to tweets where it involves a train line and some type of delay.\n",
    "\n",
    "\n",
    "3. Prepare dataset for survival analysis\n",
    "    * NEED TO READ MORE ABOUT SURVIVAL ANALYSIS....\n",
    "\n"
   ]
  },
  {
   "cell_type": "code",
   "execution_count": 3,
   "metadata": {},
   "outputs": [
    {
     "name": "stdout",
     "output_type": "stream",
     "text": [
      "           created_at                                               text  \\\n",
      "0 2018-07-09 20:42:01  Some Forest Park-bound Blue Line trains are op...   \n",
      "1 2018-07-09 20:51:29  Forest Park-bound Blue Line trains are standin...   \n",
      "2 2018-07-09 20:52:46  Some Forest Park-bound Blue Line trains are op...   \n",
      "3 2018-07-09 21:09:15  Loop-bound Orange Line trains are standing nea...   \n",
      "4 2018-07-09 21:11:09  Loop-bound Orange Line trains are standing nea...   \n",
      "\n",
      "   retweet_count  favorite_count  \n",
      "0              2               1  \n",
      "1              2               1  \n",
      "2              2               1  \n",
      "3              0               1  \n",
      "4              1               2  \n"
     ]
    },
    {
     "name": "stderr",
     "output_type": "stream",
     "text": [
      "/Users/bhoeft/anaconda3/lib/python3.6/site-packages/pandas/io/feather_format.py:112: FutureWarning: `nthreads` argument is deprecated, pass `use_threads` instead\n",
      "  return feather.read_dataframe(path, nthreads=nthreads)\n"
     ]
    }
   ],
   "source": [
    "import pandas as pd\n",
    "\n",
    "cta_tweets = pd.read_feather('cta_tweets_sample.feather')\n",
    "\n",
    "print(cta_tweets.head())"
   ]
  }
 ],
 "metadata": {
  "kernelspec": {
   "display_name": "Python 3",
   "language": "python",
   "name": "python3"
  },
  "language_info": {
   "codemirror_mode": {
    "name": "ipython",
    "version": 3
   },
   "file_extension": ".py",
   "mimetype": "text/x-python",
   "name": "python",
   "nbconvert_exporter": "python",
   "pygments_lexer": "ipython3",
   "version": "3.6.5"
  }
 },
 "nbformat": 4,
 "nbformat_minor": 2
}
