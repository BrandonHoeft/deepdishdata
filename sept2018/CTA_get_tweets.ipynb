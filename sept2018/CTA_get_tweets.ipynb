{
 "cells": [
  {
   "cell_type": "markdown",
   "metadata": {},
   "source": [
    "# Get Tweets of the @CTA Twitter handle"
   ]
  },
  {
   "cell_type": "code",
   "execution_count": 68,
   "metadata": {},
   "outputs": [],
   "source": [
    "import tweepy\n",
    "import os\n",
    "\n",
    "consumer_key = os.getenv('twitter_CONSUMER_KEY')\n",
    "consumer_secret = os.getenv('twitter_CONSUMER_SECRET')\n",
    "access_token = os.getenv('twitter_ACCESS_TOKEN')\n",
    "access_token_secret = os.getenv('twitter_ACCESS_TOKEN_SECRET')\n",
    "\n",
    "# creating an OAuthHandler instance\n",
    "auth = tweepy.OAuthHandler(consumer_key, consumer_secret)\n",
    "# my saved access token opens up the Twitter API treasure box. \n",
    "auth.set_access_token(access_token, access_token_secret)                           \n",
    "\n",
    "# Construct the authenticated API instance\n",
    "api = tweepy.API(auth)"
   ]
  },
  {
   "cell_type": "code",
   "execution_count": 69,
   "metadata": {},
   "outputs": [],
   "source": [
    "tweets = []\n",
    "\n",
    "for status in tweepy.Cursor(api.user_timeline, id=\"@cta\").items():\n",
    "    tweets.append(status._json)"
   ]
  },
  {
   "cell_type": "code",
   "execution_count": 70,
   "metadata": {},
   "outputs": [
    {
     "data": {
      "text/plain": [
       "3225"
      ]
     },
     "execution_count": 70,
     "metadata": {},
     "output_type": "execute_result"
    }
   ],
   "source": [
    "len(tweets)"
   ]
  },
  {
   "cell_type": "code",
   "execution_count": 71,
   "metadata": {},
   "outputs": [
    {
     "name": "stdout",
     "output_type": "stream",
     "text": [
      "dict_keys(['created_at', 'id', 'id_str', 'text', 'truncated', 'entities', 'source', 'in_reply_to_status_id', 'in_reply_to_status_id_str', 'in_reply_to_user_id', 'in_reply_to_user_id_str', 'in_reply_to_screen_name', 'user', 'geo', 'coordinates', 'place', 'contributors', 'is_quote_status', 'retweet_count', 'favorite_count', 'favorited', 'retweeted', 'lang'])\n"
     ]
    }
   ],
   "source": [
    "print(tweets[1].keys())"
   ]
  },
  {
   "cell_type": "code",
   "execution_count": 72,
   "metadata": {},
   "outputs": [
    {
     "data": {
      "text/plain": [
       "{'created_at': 'Wed Aug 29 15:42:07 +0000 2018',\n",
       " 'id': 1034828552217272327,\n",
       " 'id_str': '1034828552217272327',\n",
       " 'text': 'Blue Line service has been temporarily suspended between Cicero and Forest Park due to a police investigation. Shut… https://t.co/i33sIa9uCo',\n",
       " 'truncated': True,\n",
       " 'entities': {'hashtags': [],\n",
       "  'symbols': [],\n",
       "  'user_mentions': [],\n",
       "  'urls': [{'url': 'https://t.co/i33sIa9uCo',\n",
       "    'expanded_url': 'https://twitter.com/i/web/status/1034828552217272327',\n",
       "    'display_url': 'twitter.com/i/web/status/1…',\n",
       "    'indices': [117, 140]}]},\n",
       " 'source': '<a href=\"http://www.transitchicago.com/updates\" rel=\"nofollow\">ctaUpdates</a>',\n",
       " 'in_reply_to_status_id': None,\n",
       " 'in_reply_to_status_id_str': None,\n",
       " 'in_reply_to_user_id': None,\n",
       " 'in_reply_to_user_id_str': None,\n",
       " 'in_reply_to_screen_name': None,\n",
       " 'user': {'id': 342782636,\n",
       "  'id_str': '342782636',\n",
       "  'name': 'cta',\n",
       "  'screen_name': 'cta',\n",
       "  'location': 'Chicago, IL',\n",
       "  'description': 'Chicago Transit Authority updates/news/more. Not monitored 24/7: in emergency, ALWAYS tell nearest employee/call 911. Full service: https://t.co/Nyd9MaUli2.',\n",
       "  'url': 'http://t.co/rw91DEMoRY',\n",
       "  'entities': {'url': {'urls': [{'url': 'http://t.co/rw91DEMoRY',\n",
       "      'expanded_url': 'http://www.transitchicago.com',\n",
       "      'display_url': 'transitchicago.com',\n",
       "      'indices': [0, 22]}]},\n",
       "   'description': {'urls': [{'url': 'https://t.co/Nyd9MaUli2',\n",
       "      'expanded_url': 'http://transitchicago.com/feedback',\n",
       "      'display_url': 'transitchicago.com/feedback',\n",
       "      'indices': [132, 155]}]}},\n",
       "  'protected': False,\n",
       "  'followers_count': 234857,\n",
       "  'friends_count': 72,\n",
       "  'listed_count': 1325,\n",
       "  'created_at': 'Tue Jul 26 15:37:01 +0000 2011',\n",
       "  'favourites_count': 574,\n",
       "  'utc_offset': None,\n",
       "  'time_zone': None,\n",
       "  'geo_enabled': True,\n",
       "  'verified': True,\n",
       "  'statuses_count': 50821,\n",
       "  'lang': 'en',\n",
       "  'contributors_enabled': False,\n",
       "  'is_translator': False,\n",
       "  'is_translation_enabled': False,\n",
       "  'profile_background_color': '191919',\n",
       "  'profile_background_image_url': 'http://abs.twimg.com/images/themes/theme1/bg.png',\n",
       "  'profile_background_image_url_https': 'https://abs.twimg.com/images/themes/theme1/bg.png',\n",
       "  'profile_background_tile': False,\n",
       "  'profile_image_url': 'http://pbs.twimg.com/profile_images/1037092242576441344/mJejHIAe_normal.jpg',\n",
       "  'profile_image_url_https': 'https://pbs.twimg.com/profile_images/1037092242576441344/mJejHIAe_normal.jpg',\n",
       "  'profile_banner_url': 'https://pbs.twimg.com/profile_banners/342782636/1536097060',\n",
       "  'profile_link_color': '0065BD',\n",
       "  'profile_sidebar_border_color': 'C0DEED',\n",
       "  'profile_sidebar_fill_color': 'DDEEF6',\n",
       "  'profile_text_color': '333333',\n",
       "  'profile_use_background_image': True,\n",
       "  'has_extended_profile': False,\n",
       "  'default_profile': False,\n",
       "  'default_profile_image': False,\n",
       "  'following': True,\n",
       "  'follow_request_sent': False,\n",
       "  'notifications': False,\n",
       "  'translator_type': 'none'},\n",
       " 'geo': None,\n",
       " 'coordinates': None,\n",
       " 'place': None,\n",
       " 'contributors': None,\n",
       " 'is_quote_status': False,\n",
       " 'retweet_count': 4,\n",
       " 'favorite_count': 7,\n",
       " 'favorited': False,\n",
       " 'retweeted': False,\n",
       " 'lang': 'en'}"
      ]
     },
     "execution_count": 72,
     "metadata": {},
     "output_type": "execute_result"
    }
   ],
   "source": [
    "tweets[-1]"
   ]
  },
  {
   "cell_type": "code",
   "execution_count": 73,
   "metadata": {},
   "outputs": [],
   "source": [
    "import pandas as pd\n",
    "\n",
    "cols = ['created_at', 'text', 'retweet_count', 'favorite_count']\n",
    "new_tweets_df = pd.DataFrame(tweets, columns=cols)\n",
    "new_tweets_df['created_at'] = pd.to_datetime(new_tweets_df['created_at'])"
   ]
  },
  {
   "cell_type": "code",
   "execution_count": 74,
   "metadata": {},
   "outputs": [
    {
     "name": "stdout",
     "output_type": "stream",
     "text": [
      "<class 'pandas.core.frame.DataFrame'>\n",
      "RangeIndex: 3225 entries, 0 to 3224\n",
      "Data columns (total 4 columns):\n",
      "created_at        3225 non-null datetime64[ns]\n",
      "text              3225 non-null object\n",
      "retweet_count     3225 non-null int64\n",
      "favorite_count    3225 non-null int64\n",
      "dtypes: datetime64[ns](1), int64(2), object(1)\n",
      "memory usage: 100.9+ KB\n"
     ]
    }
   ],
   "source": [
    "new_tweets_df.info()"
   ]
  },
  {
   "cell_type": "code",
   "execution_count": 75,
   "metadata": {},
   "outputs": [
    {
     "data": {
      "text/html": [
       "<div>\n",
       "<style scoped>\n",
       "    .dataframe tbody tr th:only-of-type {\n",
       "        vertical-align: middle;\n",
       "    }\n",
       "\n",
       "    .dataframe tbody tr th {\n",
       "        vertical-align: top;\n",
       "    }\n",
       "\n",
       "    .dataframe thead th {\n",
       "        text-align: right;\n",
       "    }\n",
       "</style>\n",
       "<table border=\"1\" class=\"dataframe\">\n",
       "  <thead>\n",
       "    <tr style=\"text-align: right;\">\n",
       "      <th></th>\n",
       "      <th>created_at</th>\n",
       "      <th>text</th>\n",
       "      <th>retweet_count</th>\n",
       "      <th>favorite_count</th>\n",
       "    </tr>\n",
       "  </thead>\n",
       "  <tbody>\n",
       "    <tr>\n",
       "      <th>0</th>\n",
       "      <td>2018-11-20 02:10:32</td>\n",
       "      <td>[Significant Delays] O'Hare-bound Blue Line tr...</td>\n",
       "      <td>3</td>\n",
       "      <td>4</td>\n",
       "    </tr>\n",
       "    <tr>\n",
       "      <th>1</th>\n",
       "      <td>2018-11-20 02:07:04</td>\n",
       "      <td>[Minor Delays / Reroute] 7 Harrison  buses tem...</td>\n",
       "      <td>4</td>\n",
       "      <td>2</td>\n",
       "    </tr>\n",
       "    <tr>\n",
       "      <th>2</th>\n",
       "      <td>2018-11-20 01:55:12</td>\n",
       "      <td>[Normal Service*] The temporary reroute of 3 K...</td>\n",
       "      <td>3</td>\n",
       "      <td>1</td>\n",
       "    </tr>\n",
       "    <tr>\n",
       "      <th>3</th>\n",
       "      <td>2018-11-20 01:12:48</td>\n",
       "      <td>[Significant Delays] Blue Line trains are oper...</td>\n",
       "      <td>3</td>\n",
       "      <td>0</td>\n",
       "    </tr>\n",
       "    <tr>\n",
       "      <th>4</th>\n",
       "      <td>2018-11-20 01:03:59</td>\n",
       "      <td>[Significant Delays] Blue Line trains are stan...</td>\n",
       "      <td>3</td>\n",
       "      <td>1</td>\n",
       "    </tr>\n",
       "  </tbody>\n",
       "</table>\n",
       "</div>"
      ],
      "text/plain": [
       "           created_at                                               text  \\\n",
       "0 2018-11-20 02:10:32  [Significant Delays] O'Hare-bound Blue Line tr...   \n",
       "1 2018-11-20 02:07:04  [Minor Delays / Reroute] 7 Harrison  buses tem...   \n",
       "2 2018-11-20 01:55:12  [Normal Service*] The temporary reroute of 3 K...   \n",
       "3 2018-11-20 01:12:48  [Significant Delays] Blue Line trains are oper...   \n",
       "4 2018-11-20 01:03:59  [Significant Delays] Blue Line trains are stan...   \n",
       "\n",
       "   retweet_count  favorite_count  \n",
       "0              3               4  \n",
       "1              4               2  \n",
       "2              3               1  \n",
       "3              3               0  \n",
       "4              3               1  "
      ]
     },
     "execution_count": 75,
     "metadata": {},
     "output_type": "execute_result"
    }
   ],
   "source": [
    "new_tweets_df.head()"
   ]
  },
  {
   "cell_type": "markdown",
   "metadata": {},
   "source": [
    "## Open Saved Tweets\n",
    "\n",
    "    Open the existing file of tweets from prior pulls from `tweepy`. "
   ]
  },
  {
   "cell_type": "code",
   "execution_count": 76,
   "metadata": {},
   "outputs": [
    {
     "name": "stderr",
     "output_type": "stream",
     "text": [
      "/Users/bhoeft/anaconda3/lib/python3.6/site-packages/pandas/io/feather_format.py:112: FutureWarning: `nthreads` argument is deprecated, pass `use_threads` instead\n",
      "  return feather.read_dataframe(path, nthreads=nthreads)\n"
     ]
    }
   ],
   "source": [
    "saved_tweets_df = pd.read_feather('cta_tweets_sample.feather')\n",
    "last_tweet = saved_tweets_df.created_at.max()"
   ]
  },
  {
   "cell_type": "markdown",
   "metadata": {},
   "source": [
    "## Clean the new tweets\n",
    "\n",
    "Some of the new tweets scraped from the API may overlap with tweets in the existing `saved_tweets_df` dataframe. We need to filter these out from the `new_tweets_df`. We will make sure that any of the new tweets are time stamped prior to the max timestamped tweet in `saved_tweets_df`."
   ]
  },
  {
   "cell_type": "code",
   "execution_count": 77,
   "metadata": {},
   "outputs": [
    {
     "name": "stdout",
     "output_type": "stream",
     "text": [
      "(3225, 4)\n",
      "(2184, 4)\n"
     ]
    },
    {
     "data": {
      "text/plain": [
       "count                    2184\n",
       "unique                   2182\n",
       "top       2018-09-28 22:54:15\n",
       "freq                        2\n",
       "first     2018-09-22 08:00:12\n",
       "last      2018-11-20 02:10:32\n",
       "Name: created_at, dtype: object"
      ]
     },
     "execution_count": 77,
     "metadata": {},
     "output_type": "execute_result"
    }
   ],
   "source": [
    "print(new_tweets_df.shape) # before subsetting\n",
    "new_tweets_df = new_tweets_df[new_tweets_df.created_at > last_tweet]\n",
    "print(new_tweets_df.shape) # after subsetting\n",
    "new_tweets_df.created_at.describe()"
   ]
  },
  {
   "cell_type": "code",
   "execution_count": 78,
   "metadata": {},
   "outputs": [
    {
     "data": {
      "text/html": [
       "<div>\n",
       "<style scoped>\n",
       "    .dataframe tbody tr th:only-of-type {\n",
       "        vertical-align: middle;\n",
       "    }\n",
       "\n",
       "    .dataframe tbody tr th {\n",
       "        vertical-align: top;\n",
       "    }\n",
       "\n",
       "    .dataframe thead th {\n",
       "        text-align: right;\n",
       "    }\n",
       "</style>\n",
       "<table border=\"1\" class=\"dataframe\">\n",
       "  <thead>\n",
       "    <tr style=\"text-align: right;\">\n",
       "      <th></th>\n",
       "      <th>created_at</th>\n",
       "      <th>text</th>\n",
       "      <th>retweet_count</th>\n",
       "      <th>favorite_count</th>\n",
       "    </tr>\n",
       "  </thead>\n",
       "  <tbody>\n",
       "    <tr>\n",
       "      <th>0</th>\n",
       "      <td>2018-11-20 02:10:32</td>\n",
       "      <td>[Significant Delays] O'Hare-bound Blue Line tr...</td>\n",
       "      <td>3</td>\n",
       "      <td>4</td>\n",
       "    </tr>\n",
       "    <tr>\n",
       "      <th>1</th>\n",
       "      <td>2018-11-20 02:07:04</td>\n",
       "      <td>[Minor Delays / Reroute] 7 Harrison  buses tem...</td>\n",
       "      <td>4</td>\n",
       "      <td>2</td>\n",
       "    </tr>\n",
       "    <tr>\n",
       "      <th>2</th>\n",
       "      <td>2018-11-20 01:55:12</td>\n",
       "      <td>[Normal Service*] The temporary reroute of 3 K...</td>\n",
       "      <td>3</td>\n",
       "      <td>1</td>\n",
       "    </tr>\n",
       "    <tr>\n",
       "      <th>3</th>\n",
       "      <td>2018-11-20 01:12:48</td>\n",
       "      <td>[Significant Delays] Blue Line trains are oper...</td>\n",
       "      <td>3</td>\n",
       "      <td>0</td>\n",
       "    </tr>\n",
       "    <tr>\n",
       "      <th>4</th>\n",
       "      <td>2018-11-20 01:03:59</td>\n",
       "      <td>[Significant Delays] Blue Line trains are stan...</td>\n",
       "      <td>3</td>\n",
       "      <td>1</td>\n",
       "    </tr>\n",
       "    <tr>\n",
       "      <th>5</th>\n",
       "      <td>2018-11-20 00:20:56</td>\n",
       "      <td>[Significant Delays] Blue Line trains are oper...</td>\n",
       "      <td>2</td>\n",
       "      <td>1</td>\n",
       "    </tr>\n",
       "    <tr>\n",
       "      <th>6</th>\n",
       "      <td>2018-11-20 00:07:53</td>\n",
       "      <td>[Major Delays] Blue Line trains are operating ...</td>\n",
       "      <td>2</td>\n",
       "      <td>1</td>\n",
       "    </tr>\n",
       "    <tr>\n",
       "      <th>7</th>\n",
       "      <td>2018-11-20 00:01:08</td>\n",
       "      <td>[Major Delays] Blue Line trains are standing a...</td>\n",
       "      <td>4</td>\n",
       "      <td>1</td>\n",
       "    </tr>\n",
       "    <tr>\n",
       "      <th>8</th>\n",
       "      <td>2018-11-19 23:51:32</td>\n",
       "      <td>[Significant Delays] Blue Line trains are stan...</td>\n",
       "      <td>4</td>\n",
       "      <td>2</td>\n",
       "    </tr>\n",
       "    <tr>\n",
       "      <th>9</th>\n",
       "      <td>2018-11-19 23:29:24</td>\n",
       "      <td>[Significant Delays] Some Howard-bound Red Lin...</td>\n",
       "      <td>2</td>\n",
       "      <td>3</td>\n",
       "    </tr>\n",
       "  </tbody>\n",
       "</table>\n",
       "</div>"
      ],
      "text/plain": [
       "           created_at                                               text  \\\n",
       "0 2018-11-20 02:10:32  [Significant Delays] O'Hare-bound Blue Line tr...   \n",
       "1 2018-11-20 02:07:04  [Minor Delays / Reroute] 7 Harrison  buses tem...   \n",
       "2 2018-11-20 01:55:12  [Normal Service*] The temporary reroute of 3 K...   \n",
       "3 2018-11-20 01:12:48  [Significant Delays] Blue Line trains are oper...   \n",
       "4 2018-11-20 01:03:59  [Significant Delays] Blue Line trains are stan...   \n",
       "5 2018-11-20 00:20:56  [Significant Delays] Blue Line trains are oper...   \n",
       "6 2018-11-20 00:07:53  [Major Delays] Blue Line trains are operating ...   \n",
       "7 2018-11-20 00:01:08  [Major Delays] Blue Line trains are standing a...   \n",
       "8 2018-11-19 23:51:32  [Significant Delays] Blue Line trains are stan...   \n",
       "9 2018-11-19 23:29:24  [Significant Delays] Some Howard-bound Red Lin...   \n",
       "\n",
       "   retweet_count  favorite_count  \n",
       "0              3               4  \n",
       "1              4               2  \n",
       "2              3               1  \n",
       "3              3               0  \n",
       "4              3               1  \n",
       "5              2               1  \n",
       "6              2               1  \n",
       "7              4               1  \n",
       "8              4               2  \n",
       "9              2               3  "
      ]
     },
     "execution_count": 78,
     "metadata": {},
     "output_type": "execute_result"
    }
   ],
   "source": [
    "new_tweets_df.head(10)"
   ]
  },
  {
   "cell_type": "markdown",
   "metadata": {},
   "source": [
    "## Append the new tweets to the existing tweets DataFrame"
   ]
  },
  {
   "cell_type": "code",
   "execution_count": 59,
   "metadata": {},
   "outputs": [
    {
     "name": "stdout",
     "output_type": "stream",
     "text": [
      "(3234, 4)\n",
      "(2184, 4)\n"
     ]
    }
   ],
   "source": [
    "print(saved_tweets_df.shape)\n",
    "print(new_tweets_df.shape)"
   ]
  },
  {
   "cell_type": "code",
   "execution_count": 79,
   "metadata": {},
   "outputs": [
    {
     "name": "stdout",
     "output_type": "stream",
     "text": [
      "(5418, 4)\n"
     ]
    }
   ],
   "source": [
    "updated_tweets_df = (pd.concat([saved_tweets_df, new_tweets_df], ignore_index=True)\n",
    "                     .sort_values(by=['created_at'], ascending=True)\n",
    "                     .reset_index(drop=True))\n",
    "print(updated_tweets_df.shape)"
   ]
  },
  {
   "cell_type": "markdown",
   "metadata": {},
   "source": [
    "## Write the Updated Dataframe of Tweets to File"
   ]
  },
  {
   "cell_type": "code",
   "execution_count": 80,
   "metadata": {},
   "outputs": [],
   "source": [
    "updated_tweets_df.to_feather('cta_tweets_sample.feather')"
   ]
  }
 ],
 "metadata": {
  "kernelspec": {
   "display_name": "Python 3",
   "language": "python",
   "name": "python3"
  },
  "language_info": {
   "codemirror_mode": {
    "name": "ipython",
    "version": 3
   },
   "file_extension": ".py",
   "mimetype": "text/x-python",
   "name": "python",
   "nbconvert_exporter": "python",
   "pygments_lexer": "ipython3",
   "version": "3.6.5"
  }
 },
 "nbformat": 4,
 "nbformat_minor": 2
}
