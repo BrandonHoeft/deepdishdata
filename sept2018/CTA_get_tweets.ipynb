{
 "cells": [
  {
   "cell_type": "markdown",
   "metadata": {},
   "source": [
    "# Get Tweets of the @CTA Twitter handle"
   ]
  },
  {
   "cell_type": "code",
   "execution_count": 71,
   "metadata": {},
   "outputs": [],
   "source": [
    "import tweepy\n",
    "import os\n",
    "\n",
    "consumer_key = os.getenv('twitter_CONSUMER_KEY')\n",
    "consumer_secret = os.getenv('twitter_CONSUMER_SECRET')\n",
    "access_token = os.getenv('twitter_ACCESS_TOKEN')\n",
    "access_token_secret = os.getenv('twitter_ACCESS_TOKEN_SECRET')\n",
    "\n",
    "# creating an OAuthHandler instance\n",
    "auth = tweepy.OAuthHandler(consumer_key, consumer_secret)\n",
    "# my saved access token opens up the Twitter API treasure box. \n",
    "auth.set_access_token(access_token, access_token_secret)                           \n",
    "\n",
    "# Construct the authenticated API instance\n",
    "api = tweepy.API(auth)"
   ]
  },
  {
   "cell_type": "code",
   "execution_count": 72,
   "metadata": {},
   "outputs": [],
   "source": [
    "tweets = []\n",
    "\n",
    "for status in tweepy.Cursor(api.user_timeline, id=\"@cta\").items():\n",
    "    tweets.append(status._json)"
   ]
  },
  {
   "cell_type": "code",
   "execution_count": 73,
   "metadata": {},
   "outputs": [
    {
     "data": {
      "text/plain": [
       "3234"
      ]
     },
     "execution_count": 73,
     "metadata": {},
     "output_type": "execute_result"
    }
   ],
   "source": [
    "len(tweets)"
   ]
  },
  {
   "cell_type": "code",
   "execution_count": 74,
   "metadata": {},
   "outputs": [
    {
     "name": "stdout",
     "output_type": "stream",
     "text": [
      "dict_keys(['created_at', 'id', 'id_str', 'text', 'truncated', 'entities', 'source', 'in_reply_to_status_id', 'in_reply_to_status_id_str', 'in_reply_to_user_id', 'in_reply_to_user_id_str', 'in_reply_to_screen_name', 'user', 'geo', 'coordinates', 'place', 'contributors', 'is_quote_status', 'retweet_count', 'favorite_count', 'favorited', 'retweeted', 'lang'])\n"
     ]
    }
   ],
   "source": [
    "print(tweets[1].keys())"
   ]
  },
  {
   "cell_type": "code",
   "execution_count": 75,
   "metadata": {},
   "outputs": [
    {
     "data": {
      "text/plain": [
       "{'created_at': 'Sat Sep 22 01:10:05 +0000 2018',\n",
       " 'id': 1043306407796396033,\n",
       " 'id_str': '1043306407796396033',\n",
       " 'text': 'Kimball-bound Brown Line trains are standing at Kimball due to a sick customer. Crews working to restore service.',\n",
       " 'truncated': False,\n",
       " 'entities': {'hashtags': [], 'symbols': [], 'user_mentions': [], 'urls': []},\n",
       " 'source': '<a href=\"http://www.transitchicago.com/updates\" rel=\"nofollow\">ctaUpdates</a>',\n",
       " 'in_reply_to_status_id': None,\n",
       " 'in_reply_to_status_id_str': None,\n",
       " 'in_reply_to_user_id': None,\n",
       " 'in_reply_to_user_id_str': None,\n",
       " 'in_reply_to_screen_name': None,\n",
       " 'user': {'id': 342782636,\n",
       "  'id_str': '342782636',\n",
       "  'name': 'cta',\n",
       "  'screen_name': 'cta',\n",
       "  'location': 'Chicago, IL',\n",
       "  'description': 'Chicago Transit Authority updates/news/more. Not monitored 24/7: in emergency, ALWAYS tell nearest employee/call 911. Full service: https://t.co/Nyd9MaUli2.',\n",
       "  'url': 'http://t.co/rw91DEMoRY',\n",
       "  'entities': {'url': {'urls': [{'url': 'http://t.co/rw91DEMoRY',\n",
       "      'expanded_url': 'http://www.transitchicago.com',\n",
       "      'display_url': 'transitchicago.com',\n",
       "      'indices': [0, 22]}]},\n",
       "   'description': {'urls': [{'url': 'https://t.co/Nyd9MaUli2',\n",
       "      'expanded_url': 'http://transitchicago.com/feedback',\n",
       "      'display_url': 'transitchicago.com/feedback',\n",
       "      'indices': [132, 155]}]}},\n",
       "  'protected': False,\n",
       "  'followers_count': 234168,\n",
       "  'friends_count': 72,\n",
       "  'listed_count': 1318,\n",
       "  'created_at': 'Tue Jul 26 15:37:01 +0000 2011',\n",
       "  'favourites_count': 555,\n",
       "  'utc_offset': None,\n",
       "  'time_zone': None,\n",
       "  'geo_enabled': True,\n",
       "  'verified': True,\n",
       "  'statuses_count': 48637,\n",
       "  'lang': 'en',\n",
       "  'contributors_enabled': False,\n",
       "  'is_translator': False,\n",
       "  'is_translation_enabled': False,\n",
       "  'profile_background_color': '191919',\n",
       "  'profile_background_image_url': 'http://abs.twimg.com/images/themes/theme1/bg.png',\n",
       "  'profile_background_image_url_https': 'https://abs.twimg.com/images/themes/theme1/bg.png',\n",
       "  'profile_background_tile': False,\n",
       "  'profile_image_url': 'http://pbs.twimg.com/profile_images/1037092242576441344/mJejHIAe_normal.jpg',\n",
       "  'profile_image_url_https': 'https://pbs.twimg.com/profile_images/1037092242576441344/mJejHIAe_normal.jpg',\n",
       "  'profile_banner_url': 'https://pbs.twimg.com/profile_banners/342782636/1536097060',\n",
       "  'profile_link_color': '0065BD',\n",
       "  'profile_sidebar_border_color': 'C0DEED',\n",
       "  'profile_sidebar_fill_color': 'DDEEF6',\n",
       "  'profile_text_color': '333333',\n",
       "  'profile_use_background_image': True,\n",
       "  'has_extended_profile': False,\n",
       "  'default_profile': False,\n",
       "  'default_profile_image': False,\n",
       "  'following': True,\n",
       "  'follow_request_sent': False,\n",
       "  'notifications': False,\n",
       "  'translator_type': 'none'},\n",
       " 'geo': None,\n",
       " 'coordinates': None,\n",
       " 'place': None,\n",
       " 'contributors': None,\n",
       " 'is_quote_status': False,\n",
       " 'retweet_count': 1,\n",
       " 'favorite_count': 0,\n",
       " 'favorited': False,\n",
       " 'retweeted': False,\n",
       " 'lang': 'en'}"
      ]
     },
     "execution_count": 75,
     "metadata": {},
     "output_type": "execute_result"
    }
   ],
   "source": [
    "tweets[1]"
   ]
  },
  {
   "cell_type": "code",
   "execution_count": 76,
   "metadata": {},
   "outputs": [],
   "source": [
    "import pandas as pd\n",
    "\n",
    "tweets_df = pd.DataFrame(tweets, \n",
    "                         columns = ['created_at', 'text', 'retweet_count', 'favorite_count'])\n",
    "\n",
    "tweets_df['created_at'] = pd.to_datetime(tweets_df['created_at'])"
   ]
  },
  {
   "cell_type": "code",
   "execution_count": 77,
   "metadata": {},
   "outputs": [
    {
     "name": "stdout",
     "output_type": "stream",
     "text": [
      "<class 'pandas.core.frame.DataFrame'>\n",
      "RangeIndex: 3234 entries, 0 to 3233\n",
      "Data columns (total 4 columns):\n",
      "created_at        3234 non-null datetime64[ns]\n",
      "text              3234 non-null object\n",
      "retweet_count     3234 non-null int64\n",
      "favorite_count    3234 non-null int64\n",
      "dtypes: datetime64[ns](1), int64(2), object(1)\n",
      "memory usage: 101.1+ KB\n"
     ]
    }
   ],
   "source": [
    "tweets_df.info()"
   ]
  },
  {
   "cell_type": "code",
   "execution_count": 78,
   "metadata": {},
   "outputs": [
    {
     "data": {
      "text/html": [
       "<div>\n",
       "<style scoped>\n",
       "    .dataframe tbody tr th:only-of-type {\n",
       "        vertical-align: middle;\n",
       "    }\n",
       "\n",
       "    .dataframe tbody tr th {\n",
       "        vertical-align: top;\n",
       "    }\n",
       "\n",
       "    .dataframe thead th {\n",
       "        text-align: right;\n",
       "    }\n",
       "</style>\n",
       "<table border=\"1\" class=\"dataframe\">\n",
       "  <thead>\n",
       "    <tr style=\"text-align: right;\">\n",
       "      <th></th>\n",
       "      <th>created_at</th>\n",
       "      <th>text</th>\n",
       "      <th>retweet_count</th>\n",
       "      <th>favorite_count</th>\n",
       "    </tr>\n",
       "  </thead>\n",
       "  <tbody>\n",
       "    <tr>\n",
       "      <th>0</th>\n",
       "      <td>2018-09-22 01:13:02</td>\n",
       "      <td>Some Kimball-bound Brown Line trains are opera...</td>\n",
       "      <td>1</td>\n",
       "      <td>0</td>\n",
       "    </tr>\n",
       "    <tr>\n",
       "      <th>1</th>\n",
       "      <td>2018-09-22 01:10:05</td>\n",
       "      <td>Kimball-bound Brown Line trains are standing a...</td>\n",
       "      <td>1</td>\n",
       "      <td>0</td>\n",
       "    </tr>\n",
       "    <tr>\n",
       "      <th>2</th>\n",
       "      <td>2018-09-22 00:25:05</td>\n",
       "      <td>Some Howard-bound Red Line trains are operatin...</td>\n",
       "      <td>5</td>\n",
       "      <td>6</td>\n",
       "    </tr>\n",
       "    <tr>\n",
       "      <th>3</th>\n",
       "      <td>2018-09-22 00:16:37</td>\n",
       "      <td>Howard-bound Red Line trains are standing at G...</td>\n",
       "      <td>0</td>\n",
       "      <td>1</td>\n",
       "    </tr>\n",
       "    <tr>\n",
       "      <th>4</th>\n",
       "      <td>2018-09-21 23:47:19</td>\n",
       "      <td>The temporary reroute of Northbound 22 Clark, ...</td>\n",
       "      <td>2</td>\n",
       "      <td>1</td>\n",
       "    </tr>\n",
       "  </tbody>\n",
       "</table>\n",
       "</div>"
      ],
      "text/plain": [
       "           created_at                                               text  \\\n",
       "0 2018-09-22 01:13:02  Some Kimball-bound Brown Line trains are opera...   \n",
       "1 2018-09-22 01:10:05  Kimball-bound Brown Line trains are standing a...   \n",
       "2 2018-09-22 00:25:05  Some Howard-bound Red Line trains are operatin...   \n",
       "3 2018-09-22 00:16:37  Howard-bound Red Line trains are standing at G...   \n",
       "4 2018-09-21 23:47:19  The temporary reroute of Northbound 22 Clark, ...   \n",
       "\n",
       "   retweet_count  favorite_count  \n",
       "0              1               0  \n",
       "1              1               0  \n",
       "2              5               6  \n",
       "3              0               1  \n",
       "4              2               1  "
      ]
     },
     "execution_count": 78,
     "metadata": {},
     "output_type": "execute_result"
    }
   ],
   "source": [
    "tweets_df.head()"
   ]
  },
  {
   "cell_type": "code",
   "execution_count": 79,
   "metadata": {},
   "outputs": [],
   "source": [
    "tweets_df.to_feather('cta_tweets_sample.feather')"
   ]
  }
 ],
 "metadata": {
  "kernelspec": {
   "display_name": "Python 3",
   "language": "python",
   "name": "python3"
  },
  "language_info": {
   "codemirror_mode": {
    "name": "ipython",
    "version": 3
   },
   "file_extension": ".py",
   "mimetype": "text/x-python",
   "name": "python",
   "nbconvert_exporter": "python",
   "pygments_lexer": "ipython3",
   "version": "3.6.5"
  }
 },
 "nbformat": 4,
 "nbformat_minor": 2
}
